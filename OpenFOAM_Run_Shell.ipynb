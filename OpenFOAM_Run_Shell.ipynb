{
  "cells": [
    {
      "cell_type": "markdown",
      "metadata": {
        "id": "view-in-github",
        "colab_type": "text"
      },
      "source": [
        "<a href=\"https://colab.research.google.com/github/aeronext/OpenFoamOnGoogleColab/blob/main/OpenFOAM_Run_Shell.ipynb\" target=\"_parent\"><img src=\"https://colab.research.google.com/assets/colab-badge.svg\" alt=\"Open In Colab\"/></a>"
      ]
    },
    {
      "cell_type": "markdown",
      "metadata": {
        "id": "94bekivyNPYB"
      },
      "source": [
        "# 準備\n",
        "Colaboratoryのオンライン, Jupyterのオフライン環境で、MarkDownで埋め込み図が難しいため、\n",
        "display関数であらかじめ画像を埋め埋め込んでおく。\n",
        "\n",
        "各セルでShift + Enterにてセルを実行できる"
      ]
    },
    {
      "cell_type": "markdown",
      "source": [
        "## OpenFoam のインストール\n",
        "5分くらいかかる\n",
        "\n",
        "無料プランだと開く度に実行が必要\n",
        "\n",
        "環境変数でUI対話モードをOFFにしないとインストールが終わらないので注意"
      ],
      "metadata": {
        "id": "Zr-Jp1YqH4YR"
      }
    },
    {
      "cell_type": "code",
      "execution_count": null,
      "metadata": {
        "id": "5rTrvivENPYF"
      },
      "outputs": [],
      "source": [
        "%%bash\n",
        "# for colabo user\n",
        "\n",
        "sudo sh -c \"wget -O - http://dl.openfoam.org/gpg.key | apt-key add -\"\n",
        "sudo add-apt-repository http://dl.openfoam.org/ubuntu\n",
        "export DEBIAN_FRONTEND=noninteractive\n",
        "sudo apt-get update\n",
        "sudo -E apt-get -y install openfoam10 openfoam9\n",
        "\n",
        "pip install PyFoam"
      ]
    },
    {
      "cell_type": "markdown",
      "source": [
        "## Google Driveのマウント"
      ],
      "metadata": {
        "id": "y01vloCQIb2T"
      }
    },
    {
      "cell_type": "code",
      "source": [
        "from google.colab import drive\n",
        "drive.mount('/content/drive')"
      ],
      "metadata": {
        "colab": {
          "base_uri": "https://localhost:8080/"
        },
        "id": "Z5_flVeAIjCe",
        "outputId": "aae51adb-feed-4c27-d552-c56905d1fcbd"
      },
      "execution_count": 2,
      "outputs": [
        {
          "output_type": "stream",
          "name": "stdout",
          "text": [
            "Mounted at /content/drive\n"
          ]
        }
      ]
    },
    {
      "cell_type": "markdown",
      "source": [
        "# shell での実行\n"
      ],
      "metadata": {
        "id": "Dt1RNkh45k0p"
      }
    },
    {
      "cell_type": "markdown",
      "source": [
        "##  openfoam9"
      ],
      "metadata": {
        "id": "FJiJ9JiV7kaz"
      }
    },
    {
      "cell_type": "markdown",
      "source": [
        "\n",
        "### サンプルのコピー\n"
      ],
      "metadata": {
        "id": "hMOooEx-6j2w"
      }
    },
    {
      "cell_type": "code",
      "source": [
        "%%bash\n",
        ". /opt/openfoam9/etc/bashrc\n",
        "cp -r /opt/openfoam9/tutorials/incompressible/pimpleFoam/RAS/propeller openfoam9-tutorials-prop\n",
        "ls"
      ],
      "metadata": {
        "colab": {
          "base_uri": "https://localhost:8080/"
        },
        "id": "waL_8if26N8M",
        "outputId": "b23b42d6-1478-4234-a47f-b390a0f90fe8"
      },
      "execution_count": 3,
      "outputs": [
        {
          "output_type": "stream",
          "name": "stdout",
          "text": [
            "drive\n",
            "imgs\n",
            "openfoam9-tutorials-prop\n",
            "sample_data\n"
          ]
        }
      ]
    },
    {
      "cell_type": "markdown",
      "source": [
        "###処理の実行\n",
        "並列処理数を4から12に変更する"
      ],
      "metadata": {
        "id": "cLYEBKTZ7-PQ"
      }
    },
    {
      "cell_type": "code",
      "source": [
        "%%bash\n",
        "\n",
        "sed -i 's/numberOfSubdomains 4;/numberOfSubdomains 12;/g' system/decomposeParDict"
      ],
      "metadata": {
        "id": "VK6st_vNFlea"
      },
      "execution_count": null,
      "outputs": []
    },
    {
      "cell_type": "code",
      "source": [
        "%%bash\n",
        ". /opt/openfoam9/etc/bashrc\n",
        "cd openfoam9-tutorials-prop\n",
        "export OMPI_ALLOW_RUN_AS_ROOT_CONFIRM=1\n",
        "export OMPI_ALLOW_RUN_AS_ROOT=1\n",
        "export OMPI_MCA_rmaps_base_oversubscribe=1\n",
        "./Allclean\n",
        "./Allrun"
      ],
      "metadata": {
        "id": "calIBTvM6w4z",
        "colab": {
          "base_uri": "https://localhost:8080/",
          "height": 558
        },
        "outputId": "e71b1694-341d-4ef8-de4a-0d17146ceef3"
      },
      "execution_count": 6,
      "outputs": [
        {
          "output_type": "stream",
          "name": "stdout",
          "text": [
            "Cleaning /content/openfoam9-tutorials-prop case\n",
            "Mesh ../../../../multiphase/interFoam/RAS/propeller/constant/polyMesh does not exist\n",
            "Running blockMesh on /content/openfoam9-tutorials-prop\n",
            "Running surfaceFeatures on /content/openfoam9-tutorials-prop\n",
            "Running snappyHexMesh on /content/openfoam9-tutorials-prop\n",
            "Running createBaffles on /content/openfoam9-tutorials-prop\n",
            "Running splitBaffles on /content/openfoam9-tutorials-prop\n",
            "Running renumberMesh on /content/openfoam9-tutorials-prop\n",
            "Running decomposePar on /content/openfoam9-tutorials-prop\n",
            "Running pimpleFoam in parallel on /content/openfoam9-tutorials-prop using 12 processes\n",
            "Running reconstructPar on /content/openfoam9-tutorials-prop\n"
          ]
        },
        {
          "output_type": "error",
          "ename": "CalledProcessError",
          "evalue": "ignored",
          "traceback": [
            "\u001b[0;31m---------------------------------------------------------------------------\u001b[0m",
            "\u001b[0;31mCalledProcessError\u001b[0m                        Traceback (most recent call last)",
            "\u001b[0;32m<ipython-input-6-2c4c016b91bb>\u001b[0m in \u001b[0;36m<cell line: 1>\u001b[0;34m()\u001b[0m\n\u001b[0;32m----> 1\u001b[0;31m \u001b[0mget_ipython\u001b[0m\u001b[0;34m(\u001b[0m\u001b[0;34m)\u001b[0m\u001b[0;34m.\u001b[0m\u001b[0mrun_cell_magic\u001b[0m\u001b[0;34m(\u001b[0m\u001b[0;34m'bash'\u001b[0m\u001b[0;34m,\u001b[0m \u001b[0;34m''\u001b[0m\u001b[0;34m,\u001b[0m \u001b[0;34m'. /opt/openfoam9/etc/bashrc\\ncd openfoam9-tutorials-prop\\n./Allclean\\n./Allrun\\n'\u001b[0m\u001b[0;34m)\u001b[0m\u001b[0;34m\u001b[0m\u001b[0;34m\u001b[0m\u001b[0m\n\u001b[0m",
            "\u001b[0;32m/usr/local/lib/python3.10/dist-packages/google/colab/_shell.py\u001b[0m in \u001b[0;36mrun_cell_magic\u001b[0;34m(self, magic_name, line, cell)\u001b[0m\n\u001b[1;32m    332\u001b[0m     \u001b[0;32mif\u001b[0m \u001b[0mline\u001b[0m \u001b[0;32mand\u001b[0m \u001b[0;32mnot\u001b[0m \u001b[0mcell\u001b[0m\u001b[0;34m:\u001b[0m\u001b[0;34m\u001b[0m\u001b[0;34m\u001b[0m\u001b[0m\n\u001b[1;32m    333\u001b[0m       \u001b[0mcell\u001b[0m \u001b[0;34m=\u001b[0m \u001b[0;34m' '\u001b[0m\u001b[0;34m\u001b[0m\u001b[0;34m\u001b[0m\u001b[0m\n\u001b[0;32m--> 334\u001b[0;31m     \u001b[0;32mreturn\u001b[0m \u001b[0msuper\u001b[0m\u001b[0;34m(\u001b[0m\u001b[0;34m)\u001b[0m\u001b[0;34m.\u001b[0m\u001b[0mrun_cell_magic\u001b[0m\u001b[0;34m(\u001b[0m\u001b[0mmagic_name\u001b[0m\u001b[0;34m,\u001b[0m \u001b[0mline\u001b[0m\u001b[0;34m,\u001b[0m \u001b[0mcell\u001b[0m\u001b[0;34m)\u001b[0m\u001b[0;34m\u001b[0m\u001b[0;34m\u001b[0m\u001b[0m\n\u001b[0m\u001b[1;32m    335\u001b[0m \u001b[0;34m\u001b[0m\u001b[0m\n\u001b[1;32m    336\u001b[0m \u001b[0;34m\u001b[0m\u001b[0m\n",
            "\u001b[0;32m/usr/local/lib/python3.10/dist-packages/IPython/core/interactiveshell.py\u001b[0m in \u001b[0;36mrun_cell_magic\u001b[0;34m(self, magic_name, line, cell)\u001b[0m\n\u001b[1;32m   2471\u001b[0m             \u001b[0;32mwith\u001b[0m \u001b[0mself\u001b[0m\u001b[0;34m.\u001b[0m\u001b[0mbuiltin_trap\u001b[0m\u001b[0;34m:\u001b[0m\u001b[0;34m\u001b[0m\u001b[0;34m\u001b[0m\u001b[0m\n\u001b[1;32m   2472\u001b[0m                 \u001b[0margs\u001b[0m \u001b[0;34m=\u001b[0m \u001b[0;34m(\u001b[0m\u001b[0mmagic_arg_s\u001b[0m\u001b[0;34m,\u001b[0m \u001b[0mcell\u001b[0m\u001b[0;34m)\u001b[0m\u001b[0;34m\u001b[0m\u001b[0;34m\u001b[0m\u001b[0m\n\u001b[0;32m-> 2473\u001b[0;31m                 \u001b[0mresult\u001b[0m \u001b[0;34m=\u001b[0m \u001b[0mfn\u001b[0m\u001b[0;34m(\u001b[0m\u001b[0;34m*\u001b[0m\u001b[0margs\u001b[0m\u001b[0;34m,\u001b[0m \u001b[0;34m**\u001b[0m\u001b[0mkwargs\u001b[0m\u001b[0;34m)\u001b[0m\u001b[0;34m\u001b[0m\u001b[0;34m\u001b[0m\u001b[0m\n\u001b[0m\u001b[1;32m   2474\u001b[0m             \u001b[0;32mreturn\u001b[0m \u001b[0mresult\u001b[0m\u001b[0;34m\u001b[0m\u001b[0;34m\u001b[0m\u001b[0m\n\u001b[1;32m   2475\u001b[0m \u001b[0;34m\u001b[0m\u001b[0m\n",
            "\u001b[0;32m/usr/local/lib/python3.10/dist-packages/IPython/core/magics/script.py\u001b[0m in \u001b[0;36mnamed_script_magic\u001b[0;34m(line, cell)\u001b[0m\n\u001b[1;32m    140\u001b[0m             \u001b[0;32melse\u001b[0m\u001b[0;34m:\u001b[0m\u001b[0;34m\u001b[0m\u001b[0;34m\u001b[0m\u001b[0m\n\u001b[1;32m    141\u001b[0m                 \u001b[0mline\u001b[0m \u001b[0;34m=\u001b[0m \u001b[0mscript\u001b[0m\u001b[0;34m\u001b[0m\u001b[0;34m\u001b[0m\u001b[0m\n\u001b[0;32m--> 142\u001b[0;31m             \u001b[0;32mreturn\u001b[0m \u001b[0mself\u001b[0m\u001b[0;34m.\u001b[0m\u001b[0mshebang\u001b[0m\u001b[0;34m(\u001b[0m\u001b[0mline\u001b[0m\u001b[0;34m,\u001b[0m \u001b[0mcell\u001b[0m\u001b[0;34m)\u001b[0m\u001b[0;34m\u001b[0m\u001b[0;34m\u001b[0m\u001b[0m\n\u001b[0m\u001b[1;32m    143\u001b[0m \u001b[0;34m\u001b[0m\u001b[0m\n\u001b[1;32m    144\u001b[0m         \u001b[0;31m# write a basic docstring:\u001b[0m\u001b[0;34m\u001b[0m\u001b[0;34m\u001b[0m\u001b[0m\n",
            "\u001b[0;32m<decorator-gen-103>\u001b[0m in \u001b[0;36mshebang\u001b[0;34m(self, line, cell)\u001b[0m\n",
            "\u001b[0;32m/usr/local/lib/python3.10/dist-packages/IPython/core/magic.py\u001b[0m in \u001b[0;36m<lambda>\u001b[0;34m(f, *a, **k)\u001b[0m\n\u001b[1;32m    185\u001b[0m     \u001b[0;31m# but it's overkill for just that one bit of state.\u001b[0m\u001b[0;34m\u001b[0m\u001b[0;34m\u001b[0m\u001b[0m\n\u001b[1;32m    186\u001b[0m     \u001b[0;32mdef\u001b[0m \u001b[0mmagic_deco\u001b[0m\u001b[0;34m(\u001b[0m\u001b[0marg\u001b[0m\u001b[0;34m)\u001b[0m\u001b[0;34m:\u001b[0m\u001b[0;34m\u001b[0m\u001b[0;34m\u001b[0m\u001b[0m\n\u001b[0;32m--> 187\u001b[0;31m         \u001b[0mcall\u001b[0m \u001b[0;34m=\u001b[0m \u001b[0;32mlambda\u001b[0m \u001b[0mf\u001b[0m\u001b[0;34m,\u001b[0m \u001b[0;34m*\u001b[0m\u001b[0ma\u001b[0m\u001b[0;34m,\u001b[0m \u001b[0;34m**\u001b[0m\u001b[0mk\u001b[0m\u001b[0;34m:\u001b[0m \u001b[0mf\u001b[0m\u001b[0;34m(\u001b[0m\u001b[0;34m*\u001b[0m\u001b[0ma\u001b[0m\u001b[0;34m,\u001b[0m \u001b[0;34m**\u001b[0m\u001b[0mk\u001b[0m\u001b[0;34m)\u001b[0m\u001b[0;34m\u001b[0m\u001b[0;34m\u001b[0m\u001b[0m\n\u001b[0m\u001b[1;32m    188\u001b[0m \u001b[0;34m\u001b[0m\u001b[0m\n\u001b[1;32m    189\u001b[0m         \u001b[0;32mif\u001b[0m \u001b[0mcallable\u001b[0m\u001b[0;34m(\u001b[0m\u001b[0marg\u001b[0m\u001b[0;34m)\u001b[0m\u001b[0;34m:\u001b[0m\u001b[0;34m\u001b[0m\u001b[0;34m\u001b[0m\u001b[0m\n",
            "\u001b[0;32m/usr/local/lib/python3.10/dist-packages/IPython/core/magics/script.py\u001b[0m in \u001b[0;36mshebang\u001b[0;34m(self, line, cell)\u001b[0m\n\u001b[1;32m    243\u001b[0m             \u001b[0msys\u001b[0m\u001b[0;34m.\u001b[0m\u001b[0mstderr\u001b[0m\u001b[0;34m.\u001b[0m\u001b[0mflush\u001b[0m\u001b[0;34m(\u001b[0m\u001b[0;34m)\u001b[0m\u001b[0;34m\u001b[0m\u001b[0;34m\u001b[0m\u001b[0m\n\u001b[1;32m    244\u001b[0m         \u001b[0;32mif\u001b[0m \u001b[0margs\u001b[0m\u001b[0;34m.\u001b[0m\u001b[0mraise_error\u001b[0m \u001b[0;32mand\u001b[0m \u001b[0mp\u001b[0m\u001b[0;34m.\u001b[0m\u001b[0mreturncode\u001b[0m\u001b[0;34m!=\u001b[0m\u001b[0;36m0\u001b[0m\u001b[0;34m:\u001b[0m\u001b[0;34m\u001b[0m\u001b[0;34m\u001b[0m\u001b[0m\n\u001b[0;32m--> 245\u001b[0;31m             \u001b[0;32mraise\u001b[0m \u001b[0mCalledProcessError\u001b[0m\u001b[0;34m(\u001b[0m\u001b[0mp\u001b[0m\u001b[0;34m.\u001b[0m\u001b[0mreturncode\u001b[0m\u001b[0;34m,\u001b[0m \u001b[0mcell\u001b[0m\u001b[0;34m,\u001b[0m \u001b[0moutput\u001b[0m\u001b[0;34m=\u001b[0m\u001b[0mout\u001b[0m\u001b[0;34m,\u001b[0m \u001b[0mstderr\u001b[0m\u001b[0;34m=\u001b[0m\u001b[0merr\u001b[0m\u001b[0;34m)\u001b[0m\u001b[0;34m\u001b[0m\u001b[0;34m\u001b[0m\u001b[0m\n\u001b[0m\u001b[1;32m    246\u001b[0m \u001b[0;34m\u001b[0m\u001b[0m\n\u001b[1;32m    247\u001b[0m     \u001b[0;32mdef\u001b[0m \u001b[0m_run_script\u001b[0m\u001b[0;34m(\u001b[0m\u001b[0mself\u001b[0m\u001b[0;34m,\u001b[0m \u001b[0mp\u001b[0m\u001b[0;34m,\u001b[0m \u001b[0mcell\u001b[0m\u001b[0;34m,\u001b[0m \u001b[0mto_close\u001b[0m\u001b[0;34m)\u001b[0m\u001b[0;34m:\u001b[0m\u001b[0;34m\u001b[0m\u001b[0;34m\u001b[0m\u001b[0m\n",
            "\u001b[0;31mCalledProcessError\u001b[0m: Command 'b'. /opt/openfoam9/etc/bashrc\\ncd openfoam9-tutorials-prop\\n./Allclean\\n./Allrun\\n'' returned non-zero exit status 1."
          ]
        }
      ]
    },
    {
      "cell_type": "markdown",
      "source": [
        "なぜかエラーになるので大河内さんに確認してもらう"
      ],
      "metadata": {
        "id": "ZDBwICjBIvlt"
      }
    },
    {
      "cell_type": "code",
      "source": [
        "%%bash\n",
        "cp -r openfoam9-tutorials-prop /content/drive/MyDrive/openfoam/openfoam9-tutorials-prop/"
      ],
      "metadata": {
        "id": "1thj0dpMIvCx"
      },
      "execution_count": 7,
      "outputs": []
    },
    {
      "cell_type": "markdown",
      "source": [
        "## openform10"
      ],
      "metadata": {
        "id": "V9SQX4u47S80"
      }
    },
    {
      "cell_type": "markdown",
      "source": [
        "\n",
        "### サンプルのコピー\n"
      ],
      "metadata": {
        "id": "AgnrUz9m76fn"
      }
    },
    {
      "cell_type": "code",
      "source": [
        "%%bash\n",
        ". /opt/openfoam10/etc/bashrc\n",
        "cp -r /opt/openfoam10/tutorials/incompressible/pimpleFoam/RAS/propeller openfoam10-tutorials-prop\n",
        "ls"
      ],
      "metadata": {
        "id": "jvBLQyqb7ygF",
        "colab": {
          "base_uri": "https://localhost:8080/"
        },
        "outputId": "b90667cc-5870-4487-d79c-6ebd9e13e6f3"
      },
      "execution_count": 8,
      "outputs": [
        {
          "output_type": "stream",
          "name": "stdout",
          "text": [
            "drive\n",
            "imgs\n",
            "openfoam10-tutorials-prop\n",
            "openfoam9-tutorials-prop\n",
            "sample_data\n"
          ]
        }
      ]
    },
    {
      "cell_type": "markdown",
      "source": [
        "###処理の実行"
      ],
      "metadata": {
        "id": "1CeJE44j8I64"
      }
    },
    {
      "cell_type": "code",
      "source": [
        "%%bash\n",
        ". /opt/openfoam10/etc/bashrc\n",
        "cd openfoam10-tutorials-prop\n",
        "export OMPI_ALLOW_RUN_AS_ROOT_CONFIRM=1\n",
        "export OMPI_ALLOW_RUN_AS_ROOT=1\n",
        "export OMPI_MCA_rmaps_base_oversubscribe=1\n",
        "./Allclean\n",
        "./Allrun"
      ],
      "metadata": {
        "id": "um-CoFzd8Mgl",
        "colab": {
          "base_uri": "https://localhost:8080/"
        },
        "outputId": "444d9892-c67b-469f-b84e-ec525cfb3688"
      },
      "execution_count": 9,
      "outputs": [
        {
          "output_type": "stream",
          "name": "stdout",
          "text": [
            "Cleaning /content/openfoam10-tutorials-prop case\n",
            "Mesh ../../../../multiphase/interFoam/RAS/propeller/constant/polyMesh does not exist\n",
            "Running blockMesh on /content/openfoam10-tutorials-prop\n",
            "Running surfaceFeatures on /content/openfoam10-tutorials-prop\n",
            "Running decomposePar on /content/openfoam10-tutorials-prop\n",
            "Running snappyHexMesh in parallel on /content/openfoam10-tutorials-prop using 8 processes\n",
            "Running createBaffles in parallel on /content/openfoam10-tutorials-prop using 8 processes\n",
            "Running splitBaffles in parallel on /content/openfoam10-tutorials-prop using 8 processes\n",
            "Running renumberMesh in parallel on /content/openfoam10-tutorials-prop using 8 processes\n",
            "Running createNonConformalCouples in parallel on /content/openfoam10-tutorials-prop using 8 processes\n",
            "Running decomposePar on /content/openfoam10-tutorials-prop\n",
            "Running pimpleFoam in parallel on /content/openfoam10-tutorials-prop using 8 processes\n",
            "Running reconstructParMesh on /content/openfoam10-tutorials-prop\n",
            "Running reconstructPar on /content/openfoam10-tutorials-prop\n"
          ]
        }
      ]
    },
    {
      "cell_type": "code",
      "source": [
        "%%bash\n",
        "cp -r openfoam10-tutorials-prop /content/drive/MyDrive/openfoam/openfoam10-tutorials-prop/"
      ],
      "metadata": {
        "id": "cOx2RI7qJmp1"
      },
      "execution_count": 10,
      "outputs": []
    },
    {
      "cell_type": "markdown",
      "source": [
        "## openform10"
      ],
      "metadata": {
        "id": "_DXDuRf5IKRX"
      }
    },
    {
      "cell_type": "markdown",
      "source": [
        "\n",
        "### バイクサンプルのコピー\n"
      ],
      "metadata": {
        "id": "hvoGq4S6IKRx"
      }
    },
    {
      "cell_type": "code",
      "source": [
        "%%bash\n",
        ". /opt/openfoam10/etc/bashrc\n",
        "cp -r /opt/openfoam10/tutorials/incompressible/simpleFoam/motorBike openfoam10-tutorials-motorBike\n",
        "ls"
      ],
      "metadata": {
        "colab": {
          "base_uri": "https://localhost:8080/"
        },
        "outputId": "90b08155-7c40-4a67-a2f9-b035f97b1e21",
        "id": "L9KE1S1tIKRx"
      },
      "execution_count": 11,
      "outputs": [
        {
          "output_type": "stream",
          "name": "stdout",
          "text": [
            "drive\n",
            "imgs\n",
            "openfoam10-tutorials-motorBike\n",
            "openfoam10-tutorials-prop\n",
            "openfoam9-tutorials-prop\n",
            "sample_data\n"
          ]
        }
      ]
    },
    {
      "cell_type": "markdown",
      "source": [
        "###処理の実行"
      ],
      "metadata": {
        "id": "Yg2X7nqJIKRy"
      }
    },
    {
      "cell_type": "code",
      "source": [
        "%%bash\n",
        ". /opt/openfoam10/etc/bashrc\n",
        "cd openfoam10-tutorials-motorBike\n",
        "export OMPI_ALLOW_RUN_AS_ROOT_CONFIRM=1\n",
        "export OMPI_ALLOW_RUN_AS_ROOT=1\n",
        "export OMPI_MCA_rmaps_base_oversubscribe=1\n",
        "./Allclean\n",
        "./Allrun"
      ],
      "metadata": {
        "id": "VWhIDH6YIKRz"
      },
      "execution_count": null,
      "outputs": []
    },
    {
      "cell_type": "code",
      "source": [
        "%%bash\n",
        "cp -r openfoam10-tutorials-motorBike /content/drive/MyDrive/openfoam/openfoam10-tutorials-motorBike/"
      ],
      "metadata": {
        "id": "luwF6-abIKRz"
      },
      "execution_count": null,
      "outputs": []
    }
  ],
  "metadata": {
    "kernelspec": {
      "display_name": "Python 3",
      "name": "python3"
    },
    "language_info": {
      "name": "python"
    },
    "colab": {
      "provenance": [],
      "toc_visible": true,
      "include_colab_link": true
    },
    "accelerator": "TPU"
  },
  "nbformat": 4,
  "nbformat_minor": 0
}