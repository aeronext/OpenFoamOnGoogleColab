{
  "cells": [
    {
      "cell_type": "markdown",
      "metadata": {
        "id": "view-in-github",
        "colab_type": "text"
      },
      "source": [
        "<a href=\"https://colab.research.google.com/github/aeronext/OpenFoamOnGoogleColab/blob/main/OpenFOAM_Run_Shell.ipynb\" target=\"_parent\"><img src=\"https://colab.research.google.com/assets/colab-badge.svg\" alt=\"Open In Colab\"/></a>"
      ]
    },
    {
      "cell_type": "markdown",
      "metadata": {
        "id": "94bekivyNPYB"
      },
      "source": [
        "# 準備\n",
        "Colaboratoryのオンライン, Jupyterのオフライン環境で、MarkDownで埋め込み図が難しいため、\n",
        "display関数であらかじめ画像を埋め埋め込んでおく。\n",
        "\n",
        "各セルでShift + Enterにてセルを実行できる"
      ]
    },
    {
      "cell_type": "markdown",
      "source": [
        "## OpenFoam のインストール\n",
        "5分くらいかかる\n",
        "無料プランだと開く度に実行が必要"
      ],
      "metadata": {
        "id": "Zr-Jp1YqH4YR"
      }
    },
    {
      "cell_type": "code",
      "execution_count": null,
      "metadata": {
        "id": "5rTrvivENPYF"
      },
      "outputs": [],
      "source": [
        "%%bash\n",
        "# for colabo user\n",
        "mkdir imgs\n",
        "cd imgs\n",
        "wget https://github.com/TatsuyaKatayama/OpenFOAMandBaysianOpt_Notebooks/raw/master/imgs/calc_flow3.svg\n",
        "wget https://github.com/TatsuyaKatayama/OpenFOAMandBaysianOpt_Notebooks/raw/master/imgs/calc_flow3.png\n",
        "wget https://github.com/TatsuyaKatayama/OpenFOAMandBaysianOpt_Notebooks/raw/master/imgs/damBreak.png\n",
        "wget https://github.com/TatsuyaKatayama/OpenFOAMandBaysianOpt_Notebooks/raw/master/imgs/opt_flow0.png\n",
        "wget https://github.com/TatsuyaKatayama/OpenFOAMandBaysianOpt_Notebooks/raw/master/imgs/opt_flow1.png\n",
        "wget https://github.com/TatsuyaKatayama/OpenFOAMandBaysianOpt_Notebooks/raw/master/imgs/opt_flow2.png\n",
        "\n",
        "sudo sh -c \"wget -O - http://dl.openfoam.org/gpg.key | apt-key add -\"\n",
        "sudo add-apt-repository http://dl.openfoam.org/ubuntu\n",
        "export DEBIAN_FRONTEND=noninteractive\n",
        "sudo apt-get update\n",
        "sudo -E apt-get -y install openfoam10 openfoam9\n",
        "\n",
        "pip install PyFoam"
      ]
    },
    {
      "cell_type": "markdown",
      "source": [
        "## Google Driveのマウント"
      ],
      "metadata": {
        "id": "y01vloCQIb2T"
      }
    },
    {
      "cell_type": "code",
      "source": [
        "from google.colab import drive\n",
        "drive.mount('/content/drive')"
      ],
      "metadata": {
        "id": "Z5_flVeAIjCe"
      },
      "execution_count": null,
      "outputs": []
    },
    {
      "cell_type": "markdown",
      "source": [
        "# shell での実行\n"
      ],
      "metadata": {
        "id": "Dt1RNkh45k0p"
      }
    },
    {
      "cell_type": "markdown",
      "source": [
        "##  openfoam9"
      ],
      "metadata": {
        "id": "FJiJ9JiV7kaz"
      }
    },
    {
      "cell_type": "markdown",
      "source": [
        "\n",
        "### サンプルのコピー\n"
      ],
      "metadata": {
        "id": "hMOooEx-6j2w"
      }
    },
    {
      "cell_type": "code",
      "source": [
        "%%bash\n",
        ". /opt/openfoam9/etc/bashrc\n",
        "cp -r /opt/openfoam9/tutorials/incompressible/pimpleFoam/RAS/propeller openfoam9-tutorials-prop\n",
        "ls"
      ],
      "metadata": {
        "id": "waL_8if26N8M"
      },
      "execution_count": null,
      "outputs": []
    },
    {
      "cell_type": "markdown",
      "source": [
        "###処理の実行"
      ],
      "metadata": {
        "id": "cLYEBKTZ7-PQ"
      }
    },
    {
      "cell_type": "code",
      "source": [
        "%%bash\n",
        ". /opt/openfoam9/etc/bashrc\n",
        "cd openfoam9-tutorials-prop\n",
        "./Allclean\n",
        "./Allrun"
      ],
      "metadata": {
        "id": "calIBTvM6w4z"
      },
      "execution_count": null,
      "outputs": []
    },
    {
      "cell_type": "markdown",
      "source": [
        "なぜかエラーになるので大河内さんに確認してもらう"
      ],
      "metadata": {
        "id": "ZDBwICjBIvlt"
      }
    },
    {
      "cell_type": "code",
      "source": [
        "%%bash\n",
        "cp -r openfoam9-tutorials-prop /content/drive/MyDrive/openfoam/"
      ],
      "metadata": {
        "id": "1thj0dpMIvCx"
      },
      "execution_count": 6,
      "outputs": []
    },
    {
      "cell_type": "markdown",
      "source": [
        "## openform10"
      ],
      "metadata": {
        "id": "V9SQX4u47S80"
      }
    },
    {
      "cell_type": "markdown",
      "source": [
        "\n",
        "### サンプルのコピー\n"
      ],
      "metadata": {
        "id": "AgnrUz9m76fn"
      }
    },
    {
      "cell_type": "code",
      "source": [
        "%%bash\n",
        ". /opt/openfoam10/etc/bashrc\n",
        "cp -r /opt/openfoam10/tutorials/incompressible/pimpleFoam/RAS/propeller openfoam10-tutorials-prop\n",
        "ls"
      ],
      "metadata": {
        "id": "jvBLQyqb7ygF"
      },
      "execution_count": null,
      "outputs": []
    },
    {
      "cell_type": "markdown",
      "source": [
        "###処理の実行"
      ],
      "metadata": {
        "id": "1CeJE44j8I64"
      }
    },
    {
      "cell_type": "code",
      "source": [
        "%%bash\n",
        ". /opt/openfoam10/etc/bashrc\n",
        "cd openfoam10-tutorials-prop\n",
        "./Allclean\n",
        "./Allrun"
      ],
      "metadata": {
        "id": "um-CoFzd8Mgl"
      },
      "execution_count": null,
      "outputs": []
    },
    {
      "cell_type": "code",
      "source": [
        "%%bash\n",
        "cp -r openfoam10-tutorials-prop /content/drive/MyDrive/openfoam/"
      ],
      "metadata": {
        "id": "cOx2RI7qJmp1"
      },
      "execution_count": 10,
      "outputs": []
    }
  ],
  "metadata": {
    "kernelspec": {
      "display_name": "Python 3",
      "name": "python3"
    },
    "language_info": {
      "name": "python"
    },
    "colab": {
      "provenance": [],
      "toc_visible": true,
      "include_colab_link": true
    },
    "accelerator": "TPU"
  },
  "nbformat": 4,
  "nbformat_minor": 0
}